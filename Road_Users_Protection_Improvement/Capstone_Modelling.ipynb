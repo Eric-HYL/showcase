{
 "cells": [
  {
   "cell_type": "markdown",
   "id": "d7338415",
   "metadata": {},
   "source": [
    "# Capatone Project - Road Users Protection Improvement"
   ]
  },
  {
   "cell_type": "markdown",
   "id": "c3b4f1f3",
   "metadata": {},
   "source": [
    "## Background\n",
    "In UK, over 1700 people were killed by traffic accidents every year, and hundreds of thousands injured. These accidents have torn families apart, troubled the communities, and damaged properties. There are many causes to traffic accidents such as bad road using habits or unsafe road design. It is everyone's responsibility to keep the road safe.\n",
    "\n",
    "The UK Department for Transport revealed that the number of casualties remained broadly consistent in the last 10 years, except for a drop in 2020 due to lockdown for the coronavirus pandemic. The Department also discovered that the number of accidents changed along with traffic volumes.\n",
    "\n",
    "In this project, we will look into different factors of the road, vehicle and casualty in order to find a pattern of the accidents. Then we can use that information to develop strategies to \n",
    "1. reduce the number of accidents\n",
    "2. protect road users when an accident happens"
   ]
  },
  {
   "cell_type": "markdown",
   "id": "4488eef4",
   "metadata": {},
   "source": [
    "## Dataset\n",
    "Datasets:  \n",
    "- Road Safety Data - Accidents 2019  \n",
    "- Road Safety Data - Vehicles 2019  \n",
    "- Road Safety Data - Casualties 2019  \n",
    "\n",
    "Source: Department for Transport  \n",
    "Link: https://data.gov.uk/dataset/cb7ae6f0-4be6-4935-9277-47e5ce24a11f/road-safety-data  \n",
    "Volume: 117536 accidents, 71 Attributes  \n",
    "Reliability: Very reliable  \n",
    "Quality: High  \n",
    "Data Generation: Info gathered by police  \n",
    "Ongoing basis: No. New report published in every September"
   ]
  },
  {
   "cell_type": "markdown",
   "id": "7bf1c19a",
   "metadata": {},
   "source": [
    "## Table of Contents\n",
    "1. Import Libraries\n",
    "2. Load Data\n",
    "3. Clean Data\n",
    "4. EDA\n",
    "5. Prediction of Casualty Severity / Casualty Type  \n",
    "    5.1 Feature Engineering  \n",
    "    5.2 Modelling  \n",
    "        5.2.1 Decision Tree  \n",
    "        5.2.2 Random Forest  \n",
    "        5.2.3 Extra Trees  \n",
    "        5.2.4 Ada Boost  \n",
    "        5.2.5 LightGBM  \n",
    "        5.2.6 K-Nearest Neighbors  \n",
    "    5.3 Testing\n",
    "6. Identify Casualty Severity Groups by Roads\n",
    "7. Conclusion"
   ]
  },
  {
   "cell_type": "markdown",
   "id": "9fe33316",
   "metadata": {},
   "source": [
    "## 1. Import Libraries"
   ]
  },
  {
   "cell_type": "code",
   "execution_count": 1,
   "id": "a997d881",
   "metadata": {},
   "outputs": [],
   "source": [
    "import numpy as np\n",
    "import pandas as pd\n",
    "import sqlite3\n",
    "import time\n",
    "\n",
    "from sklearn.model_selection import train_test_split\n",
    "from sklearn.tree import DecisionTreeClassifier, plot_tree\n",
    "from sklearn.ensemble import RandomForestClassifier, ExtraTreesClassifier, AdaBoostClassifier\n",
    "from sklearn.neighbors import KNeighborsClassifier\n",
    "from sklearn.cluster import KMeans\n",
    "from sklearn import metrics\n",
    "from lightgbm import LGBMClassifier\n",
    "\n",
    "import matplotlib.pyplot as plt\n",
    "%matplotlib inline\n",
    "import seaborn as sns"
   ]
  },
  {
   "cell_type": "markdown",
   "id": "1c7b150d",
   "metadata": {},
   "source": [
    "## 2. Load Data"
   ]
  },
  {
   "cell_type": "code",
   "execution_count": 2,
   "id": "e991542b",
   "metadata": {},
   "outputs": [],
   "source": [
    "# Connect to SQL database\n",
    "conn = sqlite3.connect(\"uk_road_2019.sqlite\")\n",
    "# Create a cursor\n",
    "c = conn.cursor()"
   ]
  },
  {
   "cell_type": "code",
   "execution_count": 3,
   "id": "2ff8e744",
   "metadata": {},
   "outputs": [],
   "source": [
    "# Read dataframe\n",
    "df = pd.read_csv(\"df.csv\")\n",
    "df.rename(columns={\"1st_Road_Class\": \"Road_Class\", \"Pedestrian_Crossing-Physical_Facilities\": \"Crossing_Facilities\"}, \n",
    "          inplace=True)"
   ]
  },
  {
   "cell_type": "markdown",
   "id": "f7349b59",
   "metadata": {},
   "source": [
    "## 3. Clean Data\n",
    "See Capstone_DataCleaning.ipynb\n",
    "## 4. EDA\n",
    "See Capstone_EDA.ipynb"
   ]
  },
  {
   "cell_type": "markdown",
   "id": "e34cd062",
   "metadata": {},
   "source": [
    "## 5. Prediction of Casualty Severity / Casualty Type"
   ]
  },
  {
   "cell_type": "markdown",
   "id": "d15a6abc",
   "metadata": {},
   "source": [
    "### 5.1 Feature Engineering"
   ]
  },
  {
   "cell_type": "code",
   "execution_count": 4,
   "id": "6991b82f",
   "metadata": {},
   "outputs": [
    {
     "data": {
      "text/html": [
       "<div>\n",
       "<style scoped>\n",
       "    .dataframe tbody tr th:only-of-type {\n",
       "        vertical-align: middle;\n",
       "    }\n",
       "\n",
       "    .dataframe tbody tr th {\n",
       "        vertical-align: top;\n",
       "    }\n",
       "\n",
       "    .dataframe thead th {\n",
       "        text-align: right;\n",
       "    }\n",
       "</style>\n",
       "<table border=\"1\" class=\"dataframe\">\n",
       "  <thead>\n",
       "    <tr style=\"text-align: right;\">\n",
       "      <th></th>\n",
       "      <th>Accident_Index</th>\n",
       "      <th>Accident_Severity</th>\n",
       "      <th>Number_of_Casualties</th>\n",
       "      <th>Road_Class</th>\n",
       "      <th>Road_Type</th>\n",
       "      <th>Speed_limit</th>\n",
       "      <th>Junction_Detail</th>\n",
       "      <th>Junction_Control</th>\n",
       "      <th>Crossing_Facilities</th>\n",
       "      <th>Light_Conditions</th>\n",
       "      <th>Weather_Conditions</th>\n",
       "      <th>Road_Surface_Conditions</th>\n",
       "      <th>Urban_or_Rural_Area</th>\n",
       "      <th>Road_User_Type</th>\n",
       "      <th>Casualty_Severity</th>\n",
       "    </tr>\n",
       "  </thead>\n",
       "  <tbody>\n",
       "    <tr>\n",
       "      <th>0</th>\n",
       "      <td>2019010155191</td>\n",
       "      <td>3</td>\n",
       "      <td>1</td>\n",
       "      <td>4</td>\n",
       "      <td>6</td>\n",
       "      <td>30</td>\n",
       "      <td>3</td>\n",
       "      <td>4</td>\n",
       "      <td>0</td>\n",
       "      <td>4</td>\n",
       "      <td>1</td>\n",
       "      <td>1</td>\n",
       "      <td>1</td>\n",
       "      <td>1</td>\n",
       "      <td>3</td>\n",
       "    </tr>\n",
       "    <tr>\n",
       "      <th>1</th>\n",
       "      <td>2019010155192</td>\n",
       "      <td>2</td>\n",
       "      <td>1</td>\n",
       "      <td>4</td>\n",
       "      <td>6</td>\n",
       "      <td>20</td>\n",
       "      <td>3</td>\n",
       "      <td>4</td>\n",
       "      <td>0</td>\n",
       "      <td>4</td>\n",
       "      <td>1</td>\n",
       "      <td>1</td>\n",
       "      <td>1</td>\n",
       "      <td>0</td>\n",
       "      <td>2</td>\n",
       "    </tr>\n",
       "    <tr>\n",
       "      <th>2</th>\n",
       "      <td>2019010155194</td>\n",
       "      <td>3</td>\n",
       "      <td>2</td>\n",
       "      <td>3</td>\n",
       "      <td>6</td>\n",
       "      <td>30</td>\n",
       "      <td>6</td>\n",
       "      <td>4</td>\n",
       "      <td>0</td>\n",
       "      <td>4</td>\n",
       "      <td>1</td>\n",
       "      <td>1</td>\n",
       "      <td>1</td>\n",
       "      <td>9</td>\n",
       "      <td>3</td>\n",
       "    </tr>\n",
       "    <tr>\n",
       "      <th>3</th>\n",
       "      <td>2019010155195</td>\n",
       "      <td>3</td>\n",
       "      <td>3</td>\n",
       "      <td>5</td>\n",
       "      <td>3</td>\n",
       "      <td>30</td>\n",
       "      <td>0</td>\n",
       "      <td>4</td>\n",
       "      <td>0</td>\n",
       "      <td>4</td>\n",
       "      <td>1</td>\n",
       "      <td>1</td>\n",
       "      <td>1</td>\n",
       "      <td>9</td>\n",
       "      <td>3</td>\n",
       "    </tr>\n",
       "    <tr>\n",
       "      <th>4</th>\n",
       "      <td>2019010155196</td>\n",
       "      <td>3</td>\n",
       "      <td>1</td>\n",
       "      <td>3</td>\n",
       "      <td>6</td>\n",
       "      <td>30</td>\n",
       "      <td>6</td>\n",
       "      <td>2</td>\n",
       "      <td>5</td>\n",
       "      <td>4</td>\n",
       "      <td>1</td>\n",
       "      <td>1</td>\n",
       "      <td>1</td>\n",
       "      <td>0</td>\n",
       "      <td>3</td>\n",
       "    </tr>\n",
       "    <tr>\n",
       "      <th>...</th>\n",
       "      <td>...</td>\n",
       "      <td>...</td>\n",
       "      <td>...</td>\n",
       "      <td>...</td>\n",
       "      <td>...</td>\n",
       "      <td>...</td>\n",
       "      <td>...</td>\n",
       "      <td>...</td>\n",
       "      <td>...</td>\n",
       "      <td>...</td>\n",
       "      <td>...</td>\n",
       "      <td>...</td>\n",
       "      <td>...</td>\n",
       "      <td>...</td>\n",
       "      <td>...</td>\n",
       "    </tr>\n",
       "    <tr>\n",
       "      <th>108593</th>\n",
       "      <td>2019984106919</td>\n",
       "      <td>3</td>\n",
       "      <td>1</td>\n",
       "      <td>4</td>\n",
       "      <td>6</td>\n",
       "      <td>60</td>\n",
       "      <td>0</td>\n",
       "      <td>4</td>\n",
       "      <td>0</td>\n",
       "      <td>1</td>\n",
       "      <td>1</td>\n",
       "      <td>2</td>\n",
       "      <td>2</td>\n",
       "      <td>19</td>\n",
       "      <td>3</td>\n",
       "    </tr>\n",
       "    <tr>\n",
       "      <th>108594</th>\n",
       "      <td>2019984107019</td>\n",
       "      <td>3</td>\n",
       "      <td>1</td>\n",
       "      <td>3</td>\n",
       "      <td>6</td>\n",
       "      <td>60</td>\n",
       "      <td>0</td>\n",
       "      <td>4</td>\n",
       "      <td>0</td>\n",
       "      <td>1</td>\n",
       "      <td>1</td>\n",
       "      <td>2</td>\n",
       "      <td>2</td>\n",
       "      <td>19</td>\n",
       "      <td>3</td>\n",
       "    </tr>\n",
       "    <tr>\n",
       "      <th>108595</th>\n",
       "      <td>2019984107219</td>\n",
       "      <td>3</td>\n",
       "      <td>1</td>\n",
       "      <td>4</td>\n",
       "      <td>6</td>\n",
       "      <td>60</td>\n",
       "      <td>3</td>\n",
       "      <td>4</td>\n",
       "      <td>0</td>\n",
       "      <td>1</td>\n",
       "      <td>1</td>\n",
       "      <td>1</td>\n",
       "      <td>2</td>\n",
       "      <td>9</td>\n",
       "      <td>3</td>\n",
       "    </tr>\n",
       "    <tr>\n",
       "      <th>108596</th>\n",
       "      <td>2019984107419</td>\n",
       "      <td>3</td>\n",
       "      <td>1</td>\n",
       "      <td>6</td>\n",
       "      <td>6</td>\n",
       "      <td>30</td>\n",
       "      <td>3</td>\n",
       "      <td>4</td>\n",
       "      <td>0</td>\n",
       "      <td>1</td>\n",
       "      <td>1</td>\n",
       "      <td>1</td>\n",
       "      <td>2</td>\n",
       "      <td>0</td>\n",
       "      <td>3</td>\n",
       "    </tr>\n",
       "    <tr>\n",
       "      <th>108597</th>\n",
       "      <td>201998QC01004</td>\n",
       "      <td>2</td>\n",
       "      <td>1</td>\n",
       "      <td>3</td>\n",
       "      <td>6</td>\n",
       "      <td>60</td>\n",
       "      <td>0</td>\n",
       "      <td>4</td>\n",
       "      <td>0</td>\n",
       "      <td>1</td>\n",
       "      <td>1</td>\n",
       "      <td>1</td>\n",
       "      <td>2</td>\n",
       "      <td>5</td>\n",
       "      <td>2</td>\n",
       "    </tr>\n",
       "  </tbody>\n",
       "</table>\n",
       "<p>108598 rows × 15 columns</p>\n",
       "</div>"
      ],
      "text/plain": [
       "       Accident_Index  Accident_Severity  Number_of_Casualties  Road_Class  \\\n",
       "0       2019010155191                  3                     1           4   \n",
       "1       2019010155192                  2                     1           4   \n",
       "2       2019010155194                  3                     2           3   \n",
       "3       2019010155195                  3                     3           5   \n",
       "4       2019010155196                  3                     1           3   \n",
       "...               ...                ...                   ...         ...   \n",
       "108593  2019984106919                  3                     1           4   \n",
       "108594  2019984107019                  3                     1           3   \n",
       "108595  2019984107219                  3                     1           4   \n",
       "108596  2019984107419                  3                     1           6   \n",
       "108597  201998QC01004                  2                     1           3   \n",
       "\n",
       "        Road_Type  Speed_limit  Junction_Detail  Junction_Control  \\\n",
       "0               6           30                3                 4   \n",
       "1               6           20                3                 4   \n",
       "2               6           30                6                 4   \n",
       "3               3           30                0                 4   \n",
       "4               6           30                6                 2   \n",
       "...           ...          ...              ...               ...   \n",
       "108593          6           60                0                 4   \n",
       "108594          6           60                0                 4   \n",
       "108595          6           60                3                 4   \n",
       "108596          6           30                3                 4   \n",
       "108597          6           60                0                 4   \n",
       "\n",
       "        Crossing_Facilities  Light_Conditions  Weather_Conditions  \\\n",
       "0                         0                 4                   1   \n",
       "1                         0                 4                   1   \n",
       "2                         0                 4                   1   \n",
       "3                         0                 4                   1   \n",
       "4                         5                 4                   1   \n",
       "...                     ...               ...                 ...   \n",
       "108593                    0                 1                   1   \n",
       "108594                    0                 1                   1   \n",
       "108595                    0                 1                   1   \n",
       "108596                    0                 1                   1   \n",
       "108597                    0                 1                   1   \n",
       "\n",
       "        Road_Surface_Conditions  Urban_or_Rural_Area  Road_User_Type  \\\n",
       "0                             1                    1               1   \n",
       "1                             1                    1               0   \n",
       "2                             1                    1               9   \n",
       "3                             1                    1               9   \n",
       "4                             1                    1               0   \n",
       "...                         ...                  ...             ...   \n",
       "108593                        2                    2              19   \n",
       "108594                        2                    2              19   \n",
       "108595                        1                    2               9   \n",
       "108596                        1                    2               0   \n",
       "108597                        1                    2               5   \n",
       "\n",
       "        Casualty_Severity  \n",
       "0                       3  \n",
       "1                       2  \n",
       "2                       3  \n",
       "3                       3  \n",
       "4                       3  \n",
       "...                   ...  \n",
       "108593                  3  \n",
       "108594                  3  \n",
       "108595                  3  \n",
       "108596                  3  \n",
       "108597                  2  \n",
       "\n",
       "[108598 rows x 15 columns]"
      ]
     },
     "execution_count": 4,
     "metadata": {},
     "output_type": "execute_result"
    }
   ],
   "source": [
    "# Add target variables to main dataframe\n",
    "df_cas = pd.read_sql_query(\"\"\"\n",
    "SELECT id, \n",
    "       casualty_type, \n",
    "       casualty_severity \n",
    "FROM casualties \n",
    "GROUP BY id;\n",
    "\"\"\", conn)\n",
    "\n",
    "df_cas[\"Road_User_Type\"] = df_cas[\"casualty_type\"].map({\"Pedestrian\": 0, \n",
    "                                                        \"Cyclist\": 1, \n",
    "                                                        \"Motorcycle 050cc and under \\nrider or passenger\": 2, \n",
    "                                                        \"Motorcycle 050cc to 125cc \\nrider or passenger\": 3, \n",
    "                                                        \"Motorcycle 125cc to 500cc \\nrider or  passenger\": 4, \n",
    "                                                        \"Motorcycle 500cc and over \\nrider or passenger\": 5, \n",
    "                                                        \"Taxi/Private hire car occupant\": 8, \n",
    "                                                        \"Car occupant\": 9, \n",
    "                                                        \"Bus (8 - 16 passenger seats) occupant\": 10, \n",
    "                                                        \"Bus or coach occupant\": 11, \n",
    "                                                        \"Horse rider\": 16, \n",
    "                                                        \"Agricultural vehicle occupant\": 17, \n",
    "                                                        \"Tram occupant\": 18, \n",
    "                                                        \"Goods vehicle \\n(3.5 tonnes mgw and under) occupant\": 19, \n",
    "                                                        \"Goods vehicle \\n(3.5 tonnes to 7.5 tonnes mgw) occupant\": 20, \n",
    "                                                        \"Goods vehicle \\n(7.5 tonnes mgw and over) occupant\": 21, \n",
    "                                                        \"Scooter rider\": 22, \n",
    "                                                        \"Electric motorcycle rider or passenger\": 23, \n",
    "                                                        \"Other vehicle occupant\": 90, \n",
    "                                                        \"Motorcycle unknown cc \\nrider or passenger\": 97, \n",
    "                                                        \"Goods vehicle \\n(unknown weight) occupant\": 98})\n",
    "df_cas[\"Casualty_Severity\"] = df_cas[\"casualty_severity\"].map({\"Fatal\": 1, \n",
    "                                                               \"Serious\": 2, \n",
    "                                                               \"Slight\": 3})\n",
    "\n",
    "df[\"Road_User_Type\"] = df_cas.Road_User_Type\n",
    "df[\"Casualty_Severity\"] = df_cas.Casualty_Severity\n",
    "\n",
    "df"
   ]
  },
  {
   "cell_type": "code",
   "execution_count": 5,
   "id": "17c5a910",
   "metadata": {},
   "outputs": [
    {
     "data": {
      "text/plain": [
       "<AxesSubplot:title={'center':'Correlation with Road User Type'}>"
      ]
     },
     "execution_count": 5,
     "metadata": {},
     "output_type": "execute_result"
    },
    {
     "data": {
      "image/png": "[encoded data removed]",
      "text/plain": [
       "<Figure size 864x288 with 1 Axes>"
      ]
     },
     "metadata": {
      "needs_background": "light"
     },
     "output_type": "display_data"
    }
   ],
   "source": [
    "# Features\n",
    "features = [\"Road_Class\", \"Road_Type\", \"Speed_limit\", \"Junction_Detail\", \"Junction_Control\", \"Crossing_Facilities\", \n",
    "            \"Light_Conditions\", \"Weather_Conditions\", \"Road_Surface_Conditions\"]\n",
    "\n",
    "# Target variable\n",
    "label = [\"Road_User_Type\"]\n",
    "# label = [\"Casualty_Severity\"]\n",
    "\n",
    "# Correlation barplot\n",
    "df[features].corrwith(df[label[0]]).plot(kind=\"bar\", title=\"Correlation with Road User Type\", figsize=(12, 4))"
   ]
  },
  {
   "cell_type": "code",
   "execution_count": 6,
   "id": "c918c66b",
   "metadata": {},
   "outputs": [
    {
     "name": "stdout",
     "output_type": "stream",
     "text": [
      "Training data shape\n",
      "X: (72760, 9), y: (72760,)\n",
      "Testing data shape\n",
      "X: (35838, 9), y: (35838,)\n"
     ]
    }
   ],
   "source": [
    "# Split training and testing data \n",
    "X = df[features]\n",
    "y = df[label].to_numpy().ravel()\n",
    "\n",
    "# 33% testing data\n",
    "X_train, X_test, y_train, y_test = train_test_split(X, y, test_size=0.33, random_state=1)\n",
    "\n",
    "print(\"Training data shape\\nX: {}, y: {}\".format(X_train.shape, y_train.shape))\n",
    "print(\"Testing data shape\\nX: {}, y: {}\".format(X_test.shape, y_test.shape))"
   ]
  },
  {
   "cell_type": "markdown",
   "id": "b70ea285",
   "metadata": {},
   "source": [
    "**Forward Feature Selection**"
   ]
  },
  {
   "cell_type": "code",
   "execution_count": 7,
   "id": "cf124cb8",
   "metadata": {
    "scrolled": false
   },
   "outputs": [
    {
     "name": "stdout",
     "output_type": "stream",
     "text": [
      "\n",
      "RESULTS\n",
      "Speed_limit, Crossing_Facilities, Junction_Detail, Road_Type, Road_Class, Road_Surface_Conditions\n",
      "Accuracy: 0.515\n"
     ]
    }
   ],
   "source": [
    "## Use Forward Feature Selection to pick a good model\n",
    "\n",
    "# Flag intermediate output for testing / debugging\n",
    "show_steps = False\n",
    "\n",
    "# Start with no predictors\n",
    "included = []\n",
    "# Keep track of model and parameters\n",
    "best = {\"feature\": \"\", \"accuracy\": 0}\n",
    "# Create a model object to hold the modelling parameters\n",
    "# model = DecisionTreeClassifier(max_depth=7)\n",
    "model = LGBMClassifier(objective=\"multiclass\")\n",
    "\n",
    "# Forward Feature Selection\n",
    "while True:\n",
    "    # Reset flag \"changed\"\n",
    "    changed = False\n",
    "    # Features that haven't been selected\n",
    "    excluded = list(set(X.columns) - set(included))\n",
    "    # Show excluded features\n",
    "    if show_steps:\n",
    "        print(\"(Step0) Excluded = %s\" % \", \".join(excluded))\n",
    "        \n",
    "    # For-loop begins\n",
    "    for col in excluded:\n",
    "        # Show current testing feature\n",
    "        if show_steps:\n",
    "            print(\"(Step1) Trying [%s]\" % col)\n",
    "        # Fit model\n",
    "        model.fit(X_train[included + [col]], y_train)\n",
    "        # Calculate score\n",
    "        accuracy = model.score(X_test[included + [col]], y_test)\n",
    "        # Show current and best accuracy\n",
    "        if show_steps:\n",
    "            print(\"(Step2) Accuracy: This = %.3f; Best = %.3f\" % (accuracy, best[\"accuracy\"]))\n",
    "                  \n",
    "        # Update list \"best\" if model improves\n",
    "        if accuracy > best[\"accuracy\"]:\n",
    "            best = {\"feature\": col, \"accuracy\": accuracy}\n",
    "            # Update flag \"changed\"\n",
    "            changed = True\n",
    "            # Show list \"best\"\n",
    "            if show_steps:\n",
    "                print(\"NEW BEST FOUND! Feature = %s; Accuracy = %.3f\" % (best[\"feature\"], best[\"accuracy\"]))\n",
    "    # For-loop finishes\n",
    "                  \n",
    "    # If model improved, starts next round\n",
    "    if changed:\n",
    "        # Update list \"included\"\n",
    "        included.append(best[\"feature\"])\n",
    "        # Show added feature\n",
    "        if show_steps:\n",
    "            print(\"Added feature: %s \\n\" % best[\"feature\"])\n",
    "    else:\n",
    "        break\n",
    "\n",
    "print(\"\\nRESULTS\")\n",
    "print(\", \".join(included))\n",
    "print(\"Accuracy: %.3f\" % best[\"accuracy\"])"
   ]
  },
  {
   "cell_type": "code",
   "execution_count": 8,
   "id": "05d4bbbb",
   "metadata": {},
   "outputs": [
    {
     "name": "stdout",
     "output_type": "stream",
     "text": [
      "New training data shape\n",
      "X: (72760, 6), y: (72760,)\n",
      "New testing data shape\n",
      "X: (35838, 6), y: (35838,)\n"
     ]
    }
   ],
   "source": [
    "# Replace X with new features\n",
    "X = df[included]\n",
    "\n",
    "# 33% testing data\n",
    "X_train, X_test, y_train, y_test = train_test_split(X, y, test_size=0.33, random_state=1)\n",
    "\n",
    "print(\"New training data shape\\nX: {}, y: {}\".format(X_train.shape, y_train.shape))\n",
    "print(\"New testing data shape\\nX: {}, y: {}\".format(X_test.shape, y_test.shape))"
   ]
  },
  {
   "cell_type": "markdown",
   "id": "b0a9c284",
   "metadata": {},
   "source": [
    "### 5.2 Modelling"
   ]
  },
  {
   "cell_type": "markdown",
   "id": "9895a092",
   "metadata": {},
   "source": [
    "**Problem Class:**  \n",
    "Supervised Classification (multi-class)  \n",
    "\n",
    "**Models:**  \n",
    "Decision Tree  \n",
    "Random Forest  \n",
    "Extra Trees  \n",
    "Ada Boost  \n",
    "LightGBM  \n",
    "K-Nearest Neighbors  "
   ]
  },
  {
   "cell_type": "markdown",
   "id": "91e73ab9",
   "metadata": {},
   "source": [
    "#### 5.2.1 Decision Tree"
   ]
  },
  {
   "cell_type": "code",
   "execution_count": 9,
   "id": "f2bb79e4",
   "metadata": {},
   "outputs": [
    {
     "data": {
      "image/png": "[encoded data removed]",
      "text/plain": [
       "<Figure size 864x288 with 1 Axes>"
      ]
     },
     "metadata": {
      "needs_background": "light"
     },
     "output_type": "display_data"
    }
   ],
   "source": [
    "# Find best depth\n",
    "max_depth = np.arange(1, 16)\n",
    "score = []\n",
    "\n",
    "for i in max_depth:\n",
    "    dt = DecisionTreeClassifier(max_depth=i).fit(X_train, y_train)\n",
    "    score.append(dt.score(X_test, y_test))\n",
    "\n",
    "plt.figure(figsize=(12, 4))\n",
    "plt.plot(max_depth, score)\n",
    "plt.grid()\n",
    "plt.xlabel(\"Maximum Depth\")\n",
    "plt.ylabel(\"Score\")\n",
    "plt.title(\"Score vs Maximun Depth\")\n",
    "plt.show()"
   ]
  },
  {
   "cell_type": "code",
   "execution_count": 10,
   "id": "2a4ac81f",
   "metadata": {},
   "outputs": [
    {
     "name": "stdout",
     "output_type": "stream",
     "text": [
      "Best Depth: 7\n"
     ]
    }
   ],
   "source": [
    "best_depth = np.where(score == np.max(score))[0][0] + 1\n",
    "print(\"Best Depth: %d\" % best_depth)"
   ]
  },
  {
   "cell_type": "code",
   "execution_count": 11,
   "id": "5520a36e",
   "metadata": {},
   "outputs": [],
   "source": [
    "start = time.time()\n",
    "\n",
    "# Create and fit model\n",
    "dt = DecisionTreeClassifier(max_depth=best_depth).fit(X_train, y_train)\n",
    "\n",
    "end = time.time()\n",
    "\n",
    "time_dt = end - start"
   ]
  },
  {
   "cell_type": "markdown",
   "id": "a341d771",
   "metadata": {},
   "source": [
    "#### 5.2.2 Random Forest"
   ]
  },
  {
   "cell_type": "code",
   "execution_count": 12,
   "id": "130e2e26",
   "metadata": {},
   "outputs": [
    {
     "data": {
      "image/png": "[encoded data removed]",
      "text/plain": [
       "<Figure size 864x288 with 1 Axes>"
      ]
     },
     "metadata": {
      "needs_background": "light"
     },
     "output_type": "display_data"
    }
   ],
   "source": [
    "# Find best depth\n",
    "max_depth = np.arange(1, 16)\n",
    "score = []\n",
    "\n",
    "for i in max_depth:\n",
    "    rf = RandomForestClassifier(n_estimators=100, max_depth=i).fit(X_train, y_train)\n",
    "    score.append(rf.score(X_test, y_test))\n",
    "\n",
    "plt.figure(figsize=(12, 4))\n",
    "plt.plot(max_depth, score)\n",
    "plt.grid()\n",
    "plt.xlabel(\"Maximum Depth\")\n",
    "plt.ylabel(\"Score\")\n",
    "plt.title(\"Score vs Maximun Depth\")\n",
    "plt.show()"
   ]
  },
  {
   "cell_type": "code",
   "execution_count": 13,
   "id": "159a95be",
   "metadata": {},
   "outputs": [
    {
     "name": "stdout",
     "output_type": "stream",
     "text": [
      "Best Depth: 9\n"
     ]
    }
   ],
   "source": [
    "best_depth = np.where(score == np.max(score))[0][0] + 1\n",
    "print(\"Best Depth: %d\" % best_depth)"
   ]
  },
  {
   "cell_type": "code",
   "execution_count": 14,
   "id": "cd2b8185",
   "metadata": {},
   "outputs": [],
   "source": [
    "start = time.time()\n",
    "\n",
    "# Create and fit model\n",
    "rf = RandomForestClassifier(n_estimators=100, max_depth=best_depth).fit(X_train, y_train)\n",
    "\n",
    "end = time.time()\n",
    "\n",
    "time_rf = end - start"
   ]
  },
  {
   "cell_type": "markdown",
   "id": "d2d93e6f",
   "metadata": {},
   "source": [
    "#### 5.2.3 Extra Trees"
   ]
  },
  {
   "cell_type": "code",
   "execution_count": 15,
   "id": "1d234b45",
   "metadata": {},
   "outputs": [
    {
     "data": {
      "image/png": "[encoded data removed]",
      "text/plain": [
       "<Figure size 864x288 with 1 Axes>"
      ]
     },
     "metadata": {
      "needs_background": "light"
     },
     "output_type": "display_data"
    }
   ],
   "source": [
    "# Find best depth\n",
    "max_depth = np.arange(1, 16)\n",
    "score = []\n",
    "\n",
    "for i in max_depth:\n",
    "    et = ExtraTreesClassifier(n_estimators=100, max_depth=i, min_samples_leaf=2, n_jobs=-1).fit(X_train, y_train)\n",
    "    score.append(et.score(X_test, y_test))\n",
    "\n",
    "plt.figure(figsize=(12, 4))\n",
    "plt.plot(max_depth, score)\n",
    "plt.grid()\n",
    "plt.xlabel(\"Maximum Depth\")\n",
    "plt.ylabel(\"Score\")\n",
    "plt.title(\"Score vs Maximun Depth\")\n",
    "plt.show()"
   ]
  },
  {
   "cell_type": "code",
   "execution_count": 16,
   "id": "529a4a9e",
   "metadata": {},
   "outputs": [
    {
     "name": "stdout",
     "output_type": "stream",
     "text": [
      "Best Depth: 12\n"
     ]
    }
   ],
   "source": [
    "best_depth = np.where(score == np.max(score))[0][0] + 1\n",
    "print(\"Best Depth: %d\" % best_depth)"
   ]
  },
  {
   "cell_type": "code",
   "execution_count": 17,
   "id": "975f3269",
   "metadata": {},
   "outputs": [],
   "source": [
    "start = time.time()\n",
    "\n",
    "# Create and fit model\n",
    "et = ExtraTreesClassifier(n_estimators=100, max_depth=best_depth, min_samples_leaf=2, n_jobs=-1).fit(X_train, y_train)\n",
    "\n",
    "end = time.time()\n",
    "\n",
    "time_et = end - start"
   ]
  },
  {
   "cell_type": "markdown",
   "id": "6eda026b",
   "metadata": {},
   "source": [
    "#### 5.2.4 Ada Boost"
   ]
  },
  {
   "cell_type": "code",
   "execution_count": 18,
   "id": "f6d8bc2d",
   "metadata": {},
   "outputs": [],
   "source": [
    "start = time.time()\n",
    "\n",
    "# Create and fit model\n",
    "ab = AdaBoostClassifier(n_estimators=100).fit(X_train, y_train)\n",
    "\n",
    "end = time.time()\n",
    "\n",
    "time_ab = end - start"
   ]
  },
  {
   "cell_type": "markdown",
   "id": "a5aaddd2",
   "metadata": {},
   "source": [
    "#### 5.2.5 LightGBM"
   ]
  },
  {
   "cell_type": "code",
   "execution_count": 19,
   "id": "28dbb5d9",
   "metadata": {},
   "outputs": [],
   "source": [
    "start = time.time()\n",
    "\n",
    "# Create and fit model\n",
    "lgbm = LGBMClassifier(objective=\"multiclass\").fit(X_train, y_train)\n",
    "\n",
    "end = time.time()\n",
    "\n",
    "time_lgbm = end - start"
   ]
  },
  {
   "cell_type": "markdown",
   "id": "98d91943",
   "metadata": {},
   "source": [
    "#### 5.2.6 K-Nearest Neighbors"
   ]
  },
  {
   "cell_type": "code",
   "execution_count": 20,
   "id": "6a87de40",
   "metadata": {},
   "outputs": [],
   "source": [
    "start = time.time()\n",
    "\n",
    "# Create and fit model\n",
    "knn = KNeighborsClassifier(n_neighbors=300).fit(X_train, y_train)\n",
    "\n",
    "end = time.time()\n",
    "\n",
    "time_knn = end - start"
   ]
  },
  {
   "cell_type": "markdown",
   "id": "a0733200",
   "metadata": {},
   "source": [
    "### 5.3 Testing"
   ]
  },
  {
   "cell_type": "code",
   "execution_count": 21,
   "id": "80746c75",
   "metadata": {},
   "outputs": [],
   "source": [
    "# Prediction\n",
    "def prediction(model, X_test, y_test):\n",
    "    y_pred = model.predict(X_test)\n",
    "    accuracy = metrics.accuracy_score(y_test, y_pred)\n",
    "#     precision = metrics.precision_score(y_test, y_pred, average=\"micro\")\n",
    "#     recall = metrics.recall_score(y_test, y_pred, average=\"micro\")\n",
    "    \n",
    "    return accuracy#, precision, recall"
   ]
  },
  {
   "cell_type": "code",
   "execution_count": 22,
   "id": "e20c7e31",
   "metadata": {},
   "outputs": [
    {
     "name": "stdout",
     "output_type": "stream",
     "text": [
      "Baseline accuracy is 49.84 %\n"
     ]
    },
    {
     "data": {
      "text/html": [
       "<div>\n",
       "<style scoped>\n",
       "    .dataframe tbody tr th:only-of-type {\n",
       "        vertical-align: middle;\n",
       "    }\n",
       "\n",
       "    .dataframe tbody tr th {\n",
       "        vertical-align: top;\n",
       "    }\n",
       "\n",
       "    .dataframe thead th {\n",
       "        text-align: right;\n",
       "    }\n",
       "</style>\n",
       "<table border=\"1\" class=\"dataframe\">\n",
       "  <thead>\n",
       "    <tr style=\"text-align: right;\">\n",
       "      <th></th>\n",
       "      <th>accuracy</th>\n",
       "      <th>process_time</th>\n",
       "    </tr>\n",
       "  </thead>\n",
       "  <tbody>\n",
       "    <tr>\n",
       "      <th>decision tree</th>\n",
       "      <td>0.513059</td>\n",
       "      <td>0.031073</td>\n",
       "    </tr>\n",
       "    <tr>\n",
       "      <th>random forest</th>\n",
       "      <td>0.515096</td>\n",
       "      <td>2.194902</td>\n",
       "    </tr>\n",
       "    <tr>\n",
       "      <th>extra tree</th>\n",
       "      <td>0.514147</td>\n",
       "      <td>0.814775</td>\n",
       "    </tr>\n",
       "    <tr>\n",
       "      <th>ada boost</th>\n",
       "      <td>0.334310</td>\n",
       "      <td>7.048878</td>\n",
       "    </tr>\n",
       "    <tr>\n",
       "      <th>light gbm</th>\n",
       "      <td>0.514733</td>\n",
       "      <td>5.691894</td>\n",
       "    </tr>\n",
       "    <tr>\n",
       "      <th>k-nearest neighbors</th>\n",
       "      <td>0.510826</td>\n",
       "      <td>3.190520</td>\n",
       "    </tr>\n",
       "  </tbody>\n",
       "</table>\n",
       "</div>"
      ],
      "text/plain": [
       "                     accuracy  process_time\n",
       "decision tree        0.513059      0.031073\n",
       "random forest        0.515096      2.194902\n",
       "extra tree           0.514147      0.814775\n",
       "ada boost            0.334310      7.048878\n",
       "light gbm            0.514733      5.691894\n",
       "k-nearest neighbors  0.510826      3.190520"
      ]
     },
     "execution_count": 22,
     "metadata": {},
     "output_type": "execute_result"
    }
   ],
   "source": [
    "# Baseline accuracy\n",
    "baseline = round(df[label].value_counts().max() / df[label].value_counts().sum(), 4)\n",
    "print(f\"Baseline accuracy is {baseline * 100} %\")\n",
    "\n",
    "# Performance table\n",
    "models = [dt, rf, et, ab, lgbm, knn]\n",
    "performance = []\n",
    "\n",
    "for model in models:\n",
    "    performance.append(prediction(model, X_test, y_test))\n",
    "\n",
    "df_performance = pd.DataFrame(performance, \n",
    "                              columns=[\"accuracy\"],#, \"precision\", \"recall\"], \n",
    "                              index=[\"decision tree\", \"random forest\", \"extra tree\", \"ada boost\", \"light gbm\", \"k-nearest neighbors\"])\n",
    "df_performance = df_performance.assign(process_time = [time_dt, time_rf, time_et, time_ab, time_lgbm, time_knn])\n",
    "df_performance"
   ]
  },
  {
   "cell_type": "markdown",
   "id": "5944a6f9",
   "metadata": {},
   "source": [
    "Both target variables are too extreme to be predicted. We conclude that the predictions of casualty severity and casualty type are not viable with the current information."
   ]
  },
  {
   "cell_type": "markdown",
   "id": "596c1721",
   "metadata": {},
   "source": [
    "## 6. Identify Casualty Severity Groups by Roads"
   ]
  },
  {
   "cell_type": "markdown",
   "id": "4407af83",
   "metadata": {},
   "source": [
    "Use clustering method to identify what roads are more likely to have serious accidents."
   ]
  },
  {
   "cell_type": "code",
   "execution_count": 23,
   "id": "211db524",
   "metadata": {
    "scrolled": true
   },
   "outputs": [],
   "source": [
    "# Copy data\n",
    "df2 = df.copy()\n",
    "\n",
    "# Slight damage -> 0\n",
    "# Serious / Fatal -> 1\n",
    "df2[\"Casualty_Severity\"] = np.where(df2[\"Casualty_Severity\"] == 3, 0, 1)\n",
    "\n",
    "# Drop irrelevant columns\n",
    "df2.drop(columns=[\"Accident_Index\", \"Accident_Severity\", \"Number_of_Casualties\"], inplace=True)"
   ]
  },
  {
   "cell_type": "code",
   "execution_count": 24,
   "id": "258f41c1",
   "metadata": {},
   "outputs": [],
   "source": [
    "# Drop target\n",
    "df2_kmean = df2.drop(columns=[\"Casualty_Severity\"]).copy()"
   ]
  },
  {
   "cell_type": "code",
   "execution_count": 25,
   "id": "64f4081b",
   "metadata": {},
   "outputs": [
    {
     "data": {
      "image/png": "[encoded data removed]",
      "text/plain": [
       "<Figure size 1152x576 with 1 Axes>"
      ]
     },
     "metadata": {
      "needs_background": "light"
     },
     "output_type": "display_data"
    }
   ],
   "source": [
    "# Find inertias in a range of K\n",
    "inertias = []\n",
    "K = range(1,10)\n",
    "for k in K:\n",
    "    kmeanModel = KMeans(n_clusters = k)\n",
    "    kmeanModel.fit(df2_kmean)\n",
    "    inertias.append(kmeanModel.inertia_)\n",
    "    \n",
    "plt.figure(figsize=(16,8))\n",
    "\n",
    "plt.plot(K, inertias, \"bx-\")\n",
    "plt.xlabel(\"k\")\n",
    "plt.ylabel(\"Inertia\")\n",
    "plt.title(\"The Elbow Method showing the optimal k\")\n",
    "\n",
    "plt.show()"
   ]
  },
  {
   "cell_type": "code",
   "execution_count": 26,
   "id": "13cfdadb",
   "metadata": {},
   "outputs": [],
   "source": [
    "# Create and train k-mean model\n",
    "k = 2\n",
    "kmeans = KMeans(n_clusters=k, random_state=1).fit(df2_kmean)"
   ]
  },
  {
   "cell_type": "code",
   "execution_count": 27,
   "id": "910705ee",
   "metadata": {},
   "outputs": [
    {
     "data": {
      "text/plain": [
       "Text(0.5, 1.0, 'Actual')"
      ]
     },
     "execution_count": 27,
     "metadata": {},
     "output_type": "execute_result"
    },
    {
     "data": {
      "image/png": "[encoded data removed]",
      "text/plain": [
       "<Figure size 1152x432 with 2 Axes>"
      ]
     },
     "metadata": {
      "needs_background": "light"
     },
     "output_type": "display_data"
    }
   ],
   "source": [
    "f, axes = plt.subplots(1, 2, figsize=(16, 6))\n",
    "palette = sns.color_palette(\"bright\", n_colors=2)\n",
    "\n",
    "sns.scatterplot(x=\"Speed_limit\", y=\"Junction_Control\", data=df2_kmean, hue=kmeans.labels_, palette=palette, ax=axes[0])\n",
    "axes[0].set_title(\"Model\", fontsize=18)\n",
    "\n",
    "sns.scatterplot(x=\"Speed_limit\", y=\"Junction_Control\", data=df2, hue=\"Casualty_Severity\", palette=palette, ax=axes[1])\n",
    "axes[1].set_title(\"Actual\", fontsize=18)"
   ]
  },
  {
   "cell_type": "markdown",
   "id": "8d9e0b3d",
   "metadata": {},
   "source": [
    "Speed Limit has the most influence in casualty severity, and therefore the model split that into two groups based on Speed Limit."
   ]
  },
  {
   "cell_type": "markdown",
   "id": "7c63d687",
   "metadata": {},
   "source": [
    "Although machine learning methods could not predict how likely a serious accident would happen on a road, it indicated that Speed Limit was a major factor on fatal rate. We will look into the distribution of Speed Limit across different Road Class."
   ]
  },
  {
   "cell_type": "code",
   "execution_count": 28,
   "id": "a9b4020b",
   "metadata": {},
   "outputs": [
    {
     "data": {
      "text/plain": [
       "<Figure size 1152x288 with 0 Axes>"
      ]
     },
     "metadata": {},
     "output_type": "display_data"
    },
    {
     "data": {
      "image/png": "[encoded data removed]",
      "text/plain": [
       "<Figure size 965.25x360 with 1 Axes>"
      ]
     },
     "metadata": {
      "needs_background": "light"
     },
     "output_type": "display_data"
    }
   ],
   "source": [
    "df = pd.read_sql_query(\"\"\"\n",
    "SELECT road_class, \n",
    "       speed_limit, \n",
    "       COUNT(road_class) AS count \n",
    "FROM accidents \n",
    "GROUP BY road_class, speed_limit;\n",
    "\"\"\", conn)\n",
    "\n",
    "fig = plt.figure(figsize=(16, 4))\n",
    "ax = sns.catplot(data=df, x=\"road_class\", y=\"count\", hue=\"speed_limit\", kind=\"bar\", aspect=2.5)\n",
    "ax.set_xticklabels(rotation=10)\n",
    "plt.title(\"Speed Limit Distribution among Road Class\")\n",
    "plt.show()"
   ]
  },
  {
   "cell_type": "markdown",
   "id": "27c0c164",
   "metadata": {},
   "source": [
    "Since traffic accident is directly associated with volumes, we can deploy flexible speed limit for the road that has high traffic volume. For example, when traffic volume is high, we lower the speed limit from 60 mph (\\~96.6 kph) to 50 mph (~80 kph). This can reduce serious casualty for about 6.6 %."
   ]
  },
  {
   "cell_type": "markdown",
   "id": "72ab4864",
   "metadata": {},
   "source": [
    "## 7. Conclusion\n",
    "See Report.docx"
   ]
  }
 ],
 "metadata": {
  "kernelspec": {
   "display_name": "Python 3",
   "language": "python",
   "name": "python3"
  },
  "language_info": {
   "codemirror_mode": {
    "name": "ipython",
    "version": 3
   },
   "file_extension": ".py",
   "mimetype": "text/x-python",
   "name": "python",
   "nbconvert_exporter": "python",
   "pygments_lexer": "ipython3",
   "version": "3.8.8"
  }
 },
 "nbformat": 4,
 "nbformat_minor": 5
}
