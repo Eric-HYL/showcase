{
 "cells": [
  {
   "cell_type": "markdown",
   "id": "cabf8fdc",
   "metadata": {},
   "source": [
    "# Capatone Project - Road Users Protection Improvement"
   ]
  },
  {
   "cell_type": "markdown",
   "id": "cda70fcd",
   "metadata": {},
   "source": [
    "## Background\n",
    "In UK, over 1700 people were killed by traffic accidents every year, and hundreds of thousands injured. These accidents have torn families apart, troubled the communities, and damaged properties. There are many causes to traffic accidents such as bad road using habits or unsafe road design. It is everyone's responsibility to keep the road safe.\n",
    "\n",
    "The UK Department for Transport revealed that the number of casualties remained broadly consistent in the last 10 years, except for a drop in 2020 due to lockdown for the coronavirus pandemic. The Department also discovered that the number of accidents changed along with traffic volumes.\n",
    "\n",
    "In this project, we will look into different factors of the road, vehicle and casualty in order to find a pattern of the accidents. Then we can use that information to develop strategies to \n",
    "1. reduce the number of accidents\n",
    "2. protect road users when an accident happens"
   ]
  },
  {
   "cell_type": "markdown",
   "id": "1c7d4b49",
   "metadata": {},
   "source": [
    "## Dataset\n",
    "Datasets:  \n",
    "- Road Safety Data - Accidents 2019  \n",
    "- Road Safety Data - Vehicles 2019  \n",
    "- Road Safety Data - Casualties 2019  \n",
    "\n",
    "Source: Department for Transport  \n",
    "Link: https://data.gov.uk/dataset/cb7ae6f0-4be6-4935-9277-47e5ce24a11f/road-safety-data  \n",
    "Volume: 117536 accidents, 71 Attributes  \n",
    "Reliability: Very reliable  \n",
    "Quality: High  \n",
    "Data Generation: Info gathered by police  \n",
    "Ongoing basis: No. New report published in every September"
   ]
  },
  {
   "cell_type": "markdown",
   "id": "f4cab4c1",
   "metadata": {},
   "source": [
    "## Table of Contents\n",
    "1. Import Libraries\n",
    "2. Load Data\n",
    "3. Clean Data  \n",
    "    3.1 Null Values  \n",
    "    3.2 Invalid Values  \n",
    "    3.3 SQL  \n",
    "4. EDA\n",
    "5. Prediction of Casualty Severity / Casualty Type\n",
    "6. Identify Casualty Severity Groups by Roads\n",
    "7. Conclusion"
   ]
  },
  {
   "cell_type": "markdown",
   "id": "51326e96",
   "metadata": {},
   "source": [
    "## 1. Import Libraries"
   ]
  },
  {
   "cell_type": "code",
   "execution_count": 1,
   "id": "f68b4c01",
   "metadata": {},
   "outputs": [],
   "source": [
    "import numpy as np\n",
    "import pandas as pd\n",
    "import sqlite3"
   ]
  },
  {
   "cell_type": "markdown",
   "id": "329087c5",
   "metadata": {},
   "source": [
    "## 2. Load Data"
   ]
  },
  {
   "cell_type": "code",
   "execution_count": 2,
   "id": "b74ba821",
   "metadata": {},
   "outputs": [],
   "source": [
    "# Choose useful attributes from each dataset\n",
    "col_accidents = [\"Accident_Index\", \"Accident_Severity\", \"Number_of_Casualties\", \"1st_Road_Class\", \"Road_Type\", \n",
    "                 \"Speed_limit\", \"Junction_Detail\", \"Junction_Control\", \"Pedestrian_Crossing-Physical_Facilities\", \n",
    "                 \"Light_Conditions\", \"Weather_Conditions\", \"Road_Surface_Conditions\", \"Urban_or_Rural_Area\"]\n",
    "col_vehicles = [\"Accident_Index\", \"Vehicle_Type\", \"Vehicle_Manoeuvre\", \"Junction_Location\"]\n",
    "col_casualties = [\"Accident_Index\", \"Casualty_Class\", \"Casualty_Severity\", \"Pedestrian_Location\", \"Pedestrian_Movement\", \n",
    "                  \"Casualty_Type\"]\n",
    "\n",
    "# Read .csv\n",
    "df_accidents = pd.read_csv(\"data/UK_Road_Safety_Data_2019/Road Safety Data - Accidents 2019.csv\", usecols=col_accidents, low_memory=False)\n",
    "df_vehicles = pd.read_csv(\"data/UK_Road_Safety_Data_2019/Road Safety Data- Vehicles 2019.csv\", usecols=col_vehicles, low_memory=False)\n",
    "df_casualties = pd.read_csv(\"data/UK_Road_Safety_Data_2019/Road Safety Data - Casualties 2019.csv\", usecols=col_casualties, low_memory=False)"
   ]
  },
  {
   "cell_type": "code",
   "execution_count": 3,
   "id": "61e651b4",
   "metadata": {},
   "outputs": [
    {
     "data": {
      "text/html": [
       "<div>\n",
       "<style scoped>\n",
       "    .dataframe tbody tr th:only-of-type {\n",
       "        vertical-align: middle;\n",
       "    }\n",
       "\n",
       "    .dataframe tbody tr th {\n",
       "        vertical-align: top;\n",
       "    }\n",
       "\n",
       "    .dataframe thead th {\n",
       "        text-align: right;\n",
       "    }\n",
       "</style>\n",
       "<table border=\"1\" class=\"dataframe\">\n",
       "  <thead>\n",
       "    <tr style=\"text-align: right;\">\n",
       "      <th></th>\n",
       "      <th>Accident_Index</th>\n",
       "      <th>Accident_Severity</th>\n",
       "      <th>Number_of_Casualties</th>\n",
       "      <th>1st_Road_Class</th>\n",
       "      <th>Road_Type</th>\n",
       "      <th>Speed_limit</th>\n",
       "      <th>Junction_Detail</th>\n",
       "      <th>Junction_Control</th>\n",
       "      <th>Pedestrian_Crossing-Physical_Facilities</th>\n",
       "      <th>Light_Conditions</th>\n",
       "      <th>Weather_Conditions</th>\n",
       "      <th>Road_Surface_Conditions</th>\n",
       "      <th>Urban_or_Rural_Area</th>\n",
       "    </tr>\n",
       "  </thead>\n",
       "  <tbody>\n",
       "    <tr>\n",
       "      <th>0</th>\n",
       "      <td>2019010128300</td>\n",
       "      <td>3</td>\n",
       "      <td>3</td>\n",
       "      <td>3</td>\n",
       "      <td>1</td>\n",
       "      <td>30</td>\n",
       "      <td>1</td>\n",
       "      <td>2</td>\n",
       "      <td>5</td>\n",
       "      <td>1</td>\n",
       "      <td>1</td>\n",
       "      <td>1</td>\n",
       "      <td>1</td>\n",
       "    </tr>\n",
       "    <tr>\n",
       "      <th>1</th>\n",
       "      <td>2019010152270</td>\n",
       "      <td>3</td>\n",
       "      <td>1</td>\n",
       "      <td>3</td>\n",
       "      <td>2</td>\n",
       "      <td>30</td>\n",
       "      <td>0</td>\n",
       "      <td>-1</td>\n",
       "      <td>-1</td>\n",
       "      <td>4</td>\n",
       "      <td>1</td>\n",
       "      <td>1</td>\n",
       "      <td>1</td>\n",
       "    </tr>\n",
       "    <tr>\n",
       "      <th>2</th>\n",
       "      <td>2019010155191</td>\n",
       "      <td>3</td>\n",
       "      <td>1</td>\n",
       "      <td>4</td>\n",
       "      <td>6</td>\n",
       "      <td>30</td>\n",
       "      <td>3</td>\n",
       "      <td>4</td>\n",
       "      <td>0</td>\n",
       "      <td>4</td>\n",
       "      <td>1</td>\n",
       "      <td>1</td>\n",
       "      <td>1</td>\n",
       "    </tr>\n",
       "  </tbody>\n",
       "</table>\n",
       "</div>"
      ],
      "text/plain": [
       "  Accident_Index  Accident_Severity  Number_of_Casualties  1st_Road_Class  \\\n",
       "0  2019010128300                  3                     3               3   \n",
       "1  2019010152270                  3                     1               3   \n",
       "2  2019010155191                  3                     1               4   \n",
       "\n",
       "   Road_Type  Speed_limit  Junction_Detail  Junction_Control  \\\n",
       "0          1           30                1                 2   \n",
       "1          2           30                0                -1   \n",
       "2          6           30                3                 4   \n",
       "\n",
       "   Pedestrian_Crossing-Physical_Facilities  Light_Conditions  \\\n",
       "0                                        5                 1   \n",
       "1                                       -1                 4   \n",
       "2                                        0                 4   \n",
       "\n",
       "   Weather_Conditions  Road_Surface_Conditions  Urban_or_Rural_Area  \n",
       "0                   1                        1                    1  \n",
       "1                   1                        1                    1  \n",
       "2                   1                        1                    1  "
      ]
     },
     "execution_count": 3,
     "metadata": {},
     "output_type": "execute_result"
    }
   ],
   "source": [
    "# Show data sample\n",
    "df_accidents.head(3)"
   ]
  },
  {
   "cell_type": "code",
   "execution_count": 4,
   "id": "4543517a",
   "metadata": {},
   "outputs": [
    {
     "data": {
      "text/html": [
       "<div>\n",
       "<style scoped>\n",
       "    .dataframe tbody tr th:only-of-type {\n",
       "        vertical-align: middle;\n",
       "    }\n",
       "\n",
       "    .dataframe tbody tr th {\n",
       "        vertical-align: top;\n",
       "    }\n",
       "\n",
       "    .dataframe thead th {\n",
       "        text-align: right;\n",
       "    }\n",
       "</style>\n",
       "<table border=\"1\" class=\"dataframe\">\n",
       "  <thead>\n",
       "    <tr style=\"text-align: right;\">\n",
       "      <th></th>\n",
       "      <th>Accident_Index</th>\n",
       "      <th>Accident_Severity</th>\n",
       "      <th>Number_of_Casualties</th>\n",
       "      <th>1st_Road_Class</th>\n",
       "      <th>Road_Type</th>\n",
       "      <th>Speed_limit</th>\n",
       "      <th>Junction_Detail</th>\n",
       "      <th>Junction_Control</th>\n",
       "      <th>Pedestrian_Crossing-Physical_Facilities</th>\n",
       "      <th>Light_Conditions</th>\n",
       "      <th>Weather_Conditions</th>\n",
       "      <th>Road_Surface_Conditions</th>\n",
       "      <th>Urban_or_Rural_Area</th>\n",
       "    </tr>\n",
       "  </thead>\n",
       "  <tbody>\n",
       "    <tr>\n",
       "      <th>117533</th>\n",
       "      <td>2019984107219</td>\n",
       "      <td>3</td>\n",
       "      <td>1</td>\n",
       "      <td>4</td>\n",
       "      <td>6</td>\n",
       "      <td>60</td>\n",
       "      <td>3</td>\n",
       "      <td>4</td>\n",
       "      <td>0</td>\n",
       "      <td>1</td>\n",
       "      <td>1</td>\n",
       "      <td>1</td>\n",
       "      <td>2</td>\n",
       "    </tr>\n",
       "    <tr>\n",
       "      <th>117534</th>\n",
       "      <td>2019984107419</td>\n",
       "      <td>3</td>\n",
       "      <td>1</td>\n",
       "      <td>6</td>\n",
       "      <td>6</td>\n",
       "      <td>30</td>\n",
       "      <td>3</td>\n",
       "      <td>4</td>\n",
       "      <td>0</td>\n",
       "      <td>1</td>\n",
       "      <td>1</td>\n",
       "      <td>1</td>\n",
       "      <td>2</td>\n",
       "    </tr>\n",
       "    <tr>\n",
       "      <th>117535</th>\n",
       "      <td>201998QC01004</td>\n",
       "      <td>2</td>\n",
       "      <td>1</td>\n",
       "      <td>3</td>\n",
       "      <td>6</td>\n",
       "      <td>60</td>\n",
       "      <td>0</td>\n",
       "      <td>-1</td>\n",
       "      <td>0</td>\n",
       "      <td>1</td>\n",
       "      <td>1</td>\n",
       "      <td>1</td>\n",
       "      <td>2</td>\n",
       "    </tr>\n",
       "  </tbody>\n",
       "</table>\n",
       "</div>"
      ],
      "text/plain": [
       "       Accident_Index  Accident_Severity  Number_of_Casualties  \\\n",
       "117533  2019984107219                  3                     1   \n",
       "117534  2019984107419                  3                     1   \n",
       "117535  201998QC01004                  2                     1   \n",
       "\n",
       "        1st_Road_Class  Road_Type  Speed_limit  Junction_Detail  \\\n",
       "117533               4          6           60                3   \n",
       "117534               6          6           30                3   \n",
       "117535               3          6           60                0   \n",
       "\n",
       "        Junction_Control  Pedestrian_Crossing-Physical_Facilities  \\\n",
       "117533                 4                                        0   \n",
       "117534                 4                                        0   \n",
       "117535                -1                                        0   \n",
       "\n",
       "        Light_Conditions  Weather_Conditions  Road_Surface_Conditions  \\\n",
       "117533                 1                   1                        1   \n",
       "117534                 1                   1                        1   \n",
       "117535                 1                   1                        1   \n",
       "\n",
       "        Urban_or_Rural_Area  \n",
       "117533                    2  \n",
       "117534                    2  \n",
       "117535                    2  "
      ]
     },
     "execution_count": 4,
     "metadata": {},
     "output_type": "execute_result"
    }
   ],
   "source": [
    "df_accidents.tail(3)"
   ]
  },
  {
   "cell_type": "code",
   "execution_count": 5,
   "id": "4b2ed8c1",
   "metadata": {},
   "outputs": [
    {
     "data": {
      "text/html": [
       "<div>\n",
       "<style scoped>\n",
       "    .dataframe tbody tr th:only-of-type {\n",
       "        vertical-align: middle;\n",
       "    }\n",
       "\n",
       "    .dataframe tbody tr th {\n",
       "        vertical-align: top;\n",
       "    }\n",
       "\n",
       "    .dataframe thead th {\n",
       "        text-align: right;\n",
       "    }\n",
       "</style>\n",
       "<table border=\"1\" class=\"dataframe\">\n",
       "  <thead>\n",
       "    <tr style=\"text-align: right;\">\n",
       "      <th></th>\n",
       "      <th>Accident_Index</th>\n",
       "      <th>Vehicle_Type</th>\n",
       "      <th>Vehicle_Manoeuvre</th>\n",
       "      <th>Junction_Location</th>\n",
       "    </tr>\n",
       "  </thead>\n",
       "  <tbody>\n",
       "    <tr>\n",
       "      <th>0</th>\n",
       "      <td>2019010128300</td>\n",
       "      <td>9</td>\n",
       "      <td>-1</td>\n",
       "      <td>-1</td>\n",
       "    </tr>\n",
       "    <tr>\n",
       "      <th>1</th>\n",
       "      <td>2019010128300</td>\n",
       "      <td>9</td>\n",
       "      <td>-1</td>\n",
       "      <td>-1</td>\n",
       "    </tr>\n",
       "    <tr>\n",
       "      <th>2</th>\n",
       "      <td>2019010152270</td>\n",
       "      <td>9</td>\n",
       "      <td>18</td>\n",
       "      <td>0</td>\n",
       "    </tr>\n",
       "  </tbody>\n",
       "</table>\n",
       "</div>"
      ],
      "text/plain": [
       "  Accident_Index  Vehicle_Type  Vehicle_Manoeuvre  Junction_Location\n",
       "0  2019010128300             9                 -1                 -1\n",
       "1  2019010128300             9                 -1                 -1\n",
       "2  2019010152270             9                 18                  0"
      ]
     },
     "execution_count": 5,
     "metadata": {},
     "output_type": "execute_result"
    }
   ],
   "source": [
    "df_vehicles.head(3)"
   ]
  },
  {
   "cell_type": "code",
   "execution_count": 6,
   "id": "2cd9435a",
   "metadata": {},
   "outputs": [
    {
     "data": {
      "text/html": [
       "<div>\n",
       "<style scoped>\n",
       "    .dataframe tbody tr th:only-of-type {\n",
       "        vertical-align: middle;\n",
       "    }\n",
       "\n",
       "    .dataframe tbody tr th {\n",
       "        vertical-align: top;\n",
       "    }\n",
       "\n",
       "    .dataframe thead th {\n",
       "        text-align: right;\n",
       "    }\n",
       "</style>\n",
       "<table border=\"1\" class=\"dataframe\">\n",
       "  <thead>\n",
       "    <tr style=\"text-align: right;\">\n",
       "      <th></th>\n",
       "      <th>Accident_Index</th>\n",
       "      <th>Vehicle_Type</th>\n",
       "      <th>Vehicle_Manoeuvre</th>\n",
       "      <th>Junction_Location</th>\n",
       "    </tr>\n",
       "  </thead>\n",
       "  <tbody>\n",
       "    <tr>\n",
       "      <th>216378</th>\n",
       "      <td>2019984107219</td>\n",
       "      <td>9</td>\n",
       "      <td>18</td>\n",
       "      <td>1</td>\n",
       "    </tr>\n",
       "    <tr>\n",
       "      <th>216379</th>\n",
       "      <td>2019984107419</td>\n",
       "      <td>9</td>\n",
       "      <td>7</td>\n",
       "      <td>6</td>\n",
       "    </tr>\n",
       "    <tr>\n",
       "      <th>216380</th>\n",
       "      <td>201998QC01004</td>\n",
       "      <td>5</td>\n",
       "      <td>16</td>\n",
       "      <td>0</td>\n",
       "    </tr>\n",
       "  </tbody>\n",
       "</table>\n",
       "</div>"
      ],
      "text/plain": [
       "       Accident_Index  Vehicle_Type  Vehicle_Manoeuvre  Junction_Location\n",
       "216378  2019984107219             9                 18                  1\n",
       "216379  2019984107419             9                  7                  6\n",
       "216380  201998QC01004             5                 16                  0"
      ]
     },
     "execution_count": 6,
     "metadata": {},
     "output_type": "execute_result"
    }
   ],
   "source": [
    "df_vehicles.tail(3)"
   ]
  },
  {
   "cell_type": "code",
   "execution_count": 7,
   "id": "c2b044da",
   "metadata": {},
   "outputs": [
    {
     "data": {
      "text/html": [
       "<div>\n",
       "<style scoped>\n",
       "    .dataframe tbody tr th:only-of-type {\n",
       "        vertical-align: middle;\n",
       "    }\n",
       "\n",
       "    .dataframe tbody tr th {\n",
       "        vertical-align: top;\n",
       "    }\n",
       "\n",
       "    .dataframe thead th {\n",
       "        text-align: right;\n",
       "    }\n",
       "</style>\n",
       "<table border=\"1\" class=\"dataframe\">\n",
       "  <thead>\n",
       "    <tr style=\"text-align: right;\">\n",
       "      <th></th>\n",
       "      <th>Accident_Index</th>\n",
       "      <th>Casualty_Class</th>\n",
       "      <th>Casualty_Severity</th>\n",
       "      <th>Pedestrian_Location</th>\n",
       "      <th>Pedestrian_Movement</th>\n",
       "      <th>Casualty_Type</th>\n",
       "    </tr>\n",
       "  </thead>\n",
       "  <tbody>\n",
       "    <tr>\n",
       "      <th>0</th>\n",
       "      <td>2019010128300</td>\n",
       "      <td>1</td>\n",
       "      <td>3</td>\n",
       "      <td>0</td>\n",
       "      <td>0</td>\n",
       "      <td>9</td>\n",
       "    </tr>\n",
       "    <tr>\n",
       "      <th>1</th>\n",
       "      <td>2019010128300</td>\n",
       "      <td>2</td>\n",
       "      <td>3</td>\n",
       "      <td>0</td>\n",
       "      <td>0</td>\n",
       "      <td>9</td>\n",
       "    </tr>\n",
       "    <tr>\n",
       "      <th>2</th>\n",
       "      <td>2019010128300</td>\n",
       "      <td>2</td>\n",
       "      <td>3</td>\n",
       "      <td>0</td>\n",
       "      <td>0</td>\n",
       "      <td>9</td>\n",
       "    </tr>\n",
       "  </tbody>\n",
       "</table>\n",
       "</div>"
      ],
      "text/plain": [
       "  Accident_Index  Casualty_Class  Casualty_Severity  Pedestrian_Location  \\\n",
       "0  2019010128300               1                  3                    0   \n",
       "1  2019010128300               2                  3                    0   \n",
       "2  2019010128300               2                  3                    0   \n",
       "\n",
       "   Pedestrian_Movement  Casualty_Type  \n",
       "0                    0              9  \n",
       "1                    0              9  \n",
       "2                    0              9  "
      ]
     },
     "execution_count": 7,
     "metadata": {},
     "output_type": "execute_result"
    }
   ],
   "source": [
    "df_casualties.head(3)"
   ]
  },
  {
   "cell_type": "code",
   "execution_count": 8,
   "id": "c5ce393b",
   "metadata": {},
   "outputs": [
    {
     "data": {
      "text/html": [
       "<div>\n",
       "<style scoped>\n",
       "    .dataframe tbody tr th:only-of-type {\n",
       "        vertical-align: middle;\n",
       "    }\n",
       "\n",
       "    .dataframe tbody tr th {\n",
       "        vertical-align: top;\n",
       "    }\n",
       "\n",
       "    .dataframe thead th {\n",
       "        text-align: right;\n",
       "    }\n",
       "</style>\n",
       "<table border=\"1\" class=\"dataframe\">\n",
       "  <thead>\n",
       "    <tr style=\"text-align: right;\">\n",
       "      <th></th>\n",
       "      <th>Accident_Index</th>\n",
       "      <th>Casualty_Class</th>\n",
       "      <th>Casualty_Severity</th>\n",
       "      <th>Pedestrian_Location</th>\n",
       "      <th>Pedestrian_Movement</th>\n",
       "      <th>Casualty_Type</th>\n",
       "    </tr>\n",
       "  </thead>\n",
       "  <tbody>\n",
       "    <tr>\n",
       "      <th>153155</th>\n",
       "      <td>2019984107219</td>\n",
       "      <td>1</td>\n",
       "      <td>3</td>\n",
       "      <td>0</td>\n",
       "      <td>0</td>\n",
       "      <td>9</td>\n",
       "    </tr>\n",
       "    <tr>\n",
       "      <th>153156</th>\n",
       "      <td>2019984107419</td>\n",
       "      <td>3</td>\n",
       "      <td>3</td>\n",
       "      <td>5</td>\n",
       "      <td>3</td>\n",
       "      <td>0</td>\n",
       "    </tr>\n",
       "    <tr>\n",
       "      <th>153157</th>\n",
       "      <td>201998QC01004</td>\n",
       "      <td>1</td>\n",
       "      <td>2</td>\n",
       "      <td>0</td>\n",
       "      <td>0</td>\n",
       "      <td>5</td>\n",
       "    </tr>\n",
       "  </tbody>\n",
       "</table>\n",
       "</div>"
      ],
      "text/plain": [
       "       Accident_Index  Casualty_Class  Casualty_Severity  Pedestrian_Location  \\\n",
       "153155  2019984107219               1                  3                    0   \n",
       "153156  2019984107419               3                  3                    5   \n",
       "153157  201998QC01004               1                  2                    0   \n",
       "\n",
       "        Pedestrian_Movement  Casualty_Type  \n",
       "153155                    0              9  \n",
       "153156                    3              0  \n",
       "153157                    0              5  "
      ]
     },
     "execution_count": 8,
     "metadata": {},
     "output_type": "execute_result"
    }
   ],
   "source": [
    "df_casualties.tail(3)"
   ]
  },
  {
   "cell_type": "code",
   "execution_count": 9,
   "id": "d4d00db2",
   "metadata": {},
   "outputs": [
    {
     "name": "stdout",
     "output_type": "stream",
     "text": [
      "<class 'pandas.core.frame.DataFrame'>\n",
      "RangeIndex: 117536 entries, 0 to 117535\n",
      "Data columns (total 13 columns):\n",
      " #   Column                                   Non-Null Count   Dtype \n",
      "---  ------                                   --------------   ----- \n",
      " 0   Accident_Index                           117536 non-null  object\n",
      " 1   Accident_Severity                        117536 non-null  int64 \n",
      " 2   Number_of_Casualties                     117536 non-null  int64 \n",
      " 3   1st_Road_Class                           117536 non-null  int64 \n",
      " 4   Road_Type                                117536 non-null  int64 \n",
      " 5   Speed_limit                              117536 non-null  int64 \n",
      " 6   Junction_Detail                          117536 non-null  int64 \n",
      " 7   Junction_Control                         117536 non-null  int64 \n",
      " 8   Pedestrian_Crossing-Physical_Facilities  117536 non-null  int64 \n",
      " 9   Light_Conditions                         117536 non-null  int64 \n",
      " 10  Weather_Conditions                       117536 non-null  int64 \n",
      " 11  Road_Surface_Conditions                  117536 non-null  int64 \n",
      " 12  Urban_or_Rural_Area                      117536 non-null  int64 \n",
      "dtypes: int64(12), object(1)\n",
      "memory usage: 11.7+ MB\n"
     ]
    }
   ],
   "source": [
    "# Show dataset info\n",
    "df_accidents.info()"
   ]
  },
  {
   "cell_type": "code",
   "execution_count": 10,
   "id": "3562ce64",
   "metadata": {
    "scrolled": true
   },
   "outputs": [
    {
     "name": "stdout",
     "output_type": "stream",
     "text": [
      "<class 'pandas.core.frame.DataFrame'>\n",
      "RangeIndex: 216381 entries, 0 to 216380\n",
      "Data columns (total 4 columns):\n",
      " #   Column             Non-Null Count   Dtype \n",
      "---  ------             --------------   ----- \n",
      " 0   Accident_Index     216381 non-null  object\n",
      " 1   Vehicle_Type       216381 non-null  int64 \n",
      " 2   Vehicle_Manoeuvre  216381 non-null  int64 \n",
      " 3   Junction_Location  216381 non-null  int64 \n",
      "dtypes: int64(3), object(1)\n",
      "memory usage: 6.6+ MB\n"
     ]
    }
   ],
   "source": [
    "df_vehicles.info()"
   ]
  },
  {
   "cell_type": "code",
   "execution_count": 11,
   "id": "b3359567",
   "metadata": {},
   "outputs": [
    {
     "name": "stdout",
     "output_type": "stream",
     "text": [
      "<class 'pandas.core.frame.DataFrame'>\n",
      "RangeIndex: 153158 entries, 0 to 153157\n",
      "Data columns (total 6 columns):\n",
      " #   Column               Non-Null Count   Dtype \n",
      "---  ------               --------------   ----- \n",
      " 0   Accident_Index       153158 non-null  object\n",
      " 1   Casualty_Class       153158 non-null  int64 \n",
      " 2   Casualty_Severity    153158 non-null  int64 \n",
      " 3   Pedestrian_Location  153158 non-null  int64 \n",
      " 4   Pedestrian_Movement  153158 non-null  int64 \n",
      " 5   Casualty_Type        153158 non-null  int64 \n",
      "dtypes: int64(5), object(1)\n",
      "memory usage: 7.0+ MB\n"
     ]
    }
   ],
   "source": [
    "df_casualties.info()"
   ]
  },
  {
   "cell_type": "markdown",
   "id": "76066534",
   "metadata": {},
   "source": [
    "## 3. Clean Data"
   ]
  },
  {
   "cell_type": "markdown",
   "id": "b52b731e",
   "metadata": {},
   "source": [
    "### 3.1 Null Values"
   ]
  },
  {
   "cell_type": "code",
   "execution_count": 12,
   "id": "0b291e81",
   "metadata": {},
   "outputs": [
    {
     "name": "stdout",
     "output_type": "stream",
     "text": [
      "df_accidents null values: 0\n",
      "df_vehicles null values: 0\n",
      "df_casualties null values: 0\n"
     ]
    }
   ],
   "source": [
    "# Count total number of null value in each dataset\n",
    "print(\"df_accidents null values: %d\" % df_accidents.isnull().sum().sum())\n",
    "print(\"df_vehicles null values: %d\" % df_vehicles.isnull().sum().sum())\n",
    "print(\"df_casualties null values: %d\" % df_casualties.isnull().sum().sum())"
   ]
  },
  {
   "cell_type": "code",
   "execution_count": 13,
   "id": "e89c595d",
   "metadata": {},
   "outputs": [],
   "source": [
    "# Drop null value if needed\n",
    "# df_accidents = df_accidents.dropna()\n",
    "# df_vehicles = df_vehicles.dropna()\n",
    "# df_casualties = df_casualties.dropna()"
   ]
  },
  {
   "cell_type": "markdown",
   "id": "649aced9",
   "metadata": {},
   "source": [
    "### 3.2 Invalid Values"
   ]
  },
  {
   "cell_type": "code",
   "execution_count": 14,
   "id": "88fbdd89",
   "metadata": {},
   "outputs": [
    {
     "name": "stdout",
     "output_type": "stream",
     "text": [
      "Accident_Index: 1\n",
      "Speed_limit: 80\n",
      "Junction_Detail: 1397\n",
      "Junction_Control: 52376\n",
      "Pedestrian_Crossing-Physical_Facilities: 3242\n",
      "Light_Conditions: 1\n",
      "Road_Surface_Conditions: 1349\n",
      "\n",
      "Accident_Index: 1\n",
      "Vehicle_Type: 309\n",
      "Vehicle_Manoeuvre: 13063\n",
      "Junction_Location: 9531\n",
      "\n",
      "Accident_Index: 1\n",
      "Pedestrian_Location: 1\n",
      "Casualty_Type: 5\n"
     ]
    }
   ],
   "source": [
    "# The value \"-1\" means missing data or out of range value\n",
    "# Count the number of \"-1\" under each column\n",
    "# If a column doesn't have \"-1\", do nothing\n",
    "for col in df_accidents.columns:\n",
    "    try:\n",
    "        print(str(col) + \": \" + str(df_accidents[col].value_counts()[-1]))\n",
    "    except:\n",
    "        pass\n",
    "\n",
    "print(\"\")\n",
    "    \n",
    "for col in df_vehicles.columns:\n",
    "    try:\n",
    "        print(str(col) + \": \" + str(df_vehicles[col].value_counts()[-1]))\n",
    "    except:\n",
    "        pass\n",
    "\n",
    "print(\"\")\n",
    "\n",
    "for col in df_casualties.columns:\n",
    "    try:\n",
    "        print(str(col) + \": \" + str(df_casualties[col].value_counts()[-1]))\n",
    "    except:\n",
    "        pass"
   ]
  },
  {
   "cell_type": "code",
   "execution_count": 15,
   "id": "710b06ff",
   "metadata": {
    "scrolled": true
   },
   "outputs": [
    {
     "data": {
      "text/plain": [
       "-1    52376\n",
       " 4    50882\n",
       " 2    13122\n",
       " 3      773\n",
       " 1      379\n",
       " 0        4\n",
       "Name: Junction_Control, dtype: int64"
      ]
     },
     "execution_count": 15,
     "metadata": {},
     "output_type": "execute_result"
    }
   ],
   "source": [
    "# Junction Control has too many missing data. Further look into it\n",
    "df_accidents[\"Junction_Control\"].value_counts()"
   ]
  },
  {
   "cell_type": "code",
   "execution_count": 16,
   "id": "decaa449",
   "metadata": {},
   "outputs": [],
   "source": [
    "# The top two values of Junction Control are -1) Data missing or out of range, and \n",
    "#                                             4) Give way or uncontrolled. \n",
    "\n",
    "# Assume all the missing values are \"uncontrolled\"\n",
    "df_accidents[\"Junction_Control\"] = np.where(df_accidents[\"Junction_Control\"] == -1, 4, df_accidents[\"Junction_Control\"])"
   ]
  },
  {
   "cell_type": "code",
   "execution_count": 17,
   "id": "80f2262d",
   "metadata": {},
   "outputs": [
    {
     "name": "stdout",
     "output_type": "stream",
     "text": [
      "Number of accidents with missing information: 8938\n",
      "Percentage of accidents with missing information: 7.60%\n"
     ]
    }
   ],
   "source": [
    "## Find all Accident_Index that contains the value \"-1\"\n",
    "\n",
    "dfs = [df_accidents, df_vehicles, df_casualties]\n",
    "    \n",
    "# Create empty series to store index\n",
    "bad_id = pd.Series(dtype=\"object\")\n",
    "    \n",
    "# Find the index of rows with \"-1\" under each column in each dataframe\n",
    "for df in dfs:\n",
    "    for col in df.columns:\n",
    "        ind = df[col][df[col] == -1].index\n",
    "        # Store \"Accident_Index\" into \"bad_id\" according to \"ind\"\n",
    "        bad_id = pd.concat([bad_id, df.loc[ind, \"Accident_Index\"]])\n",
    "        \n",
    "# Remove duplication\n",
    "bad_id = set(bad_id)\n",
    "\n",
    "print(\"Number of accidents with missing information: %d\" % len(bad_id))\n",
    "print(\"Percentage of accidents with missing information: %.2f%%\" % (len(bad_id) / len(df_accidents) * 100))"
   ]
  },
  {
   "cell_type": "code",
   "execution_count": 18,
   "id": "a09e46d8",
   "metadata": {},
   "outputs": [],
   "source": [
    "# Since only less than 10% data has missing information, it is acceptable to delete them\n",
    "df_accidents = df_accidents.drop(df_accidents[df_accidents[\"Accident_Index\"].isin(bad_id)].index)\n",
    "df_vehicles = df_vehicles.drop(df_vehicles[df_vehicles[\"Accident_Index\"].isin(bad_id)].index)\n",
    "df_casualties = df_casualties.drop(df_casualties[df_casualties[\"Accident_Index\"].isin(bad_id)].index)"
   ]
  },
  {
   "cell_type": "code",
   "execution_count": 19,
   "id": "f706cba7",
   "metadata": {},
   "outputs": [],
   "source": [
    "# Export .csv\n",
    "df_accidents.to_csv(\"df.csv\", index=False)"
   ]
  },
  {
   "cell_type": "code",
   "execution_count": 20,
   "id": "ccfc6f26",
   "metadata": {},
   "outputs": [],
   "source": [
    "# Variable lookup table\n",
    "lookup = {\"Accident_Severity\":{1:\"Fatal\", \n",
    "                               2:\"Serious\", \n",
    "                               3:\"Slight\"}, \n",
    "          \"1st_Road_Class\":{1: \"Motorway (High-speed roads)\", \n",
    "                            2: \"A(M) \\nA roads with motorway restrictions\", \n",
    "                            3: \"A \\nMajor roads\", \n",
    "                            4: \"B \\nMinor roads connect different areas, \\nfeed traffic to A roads\", \n",
    "                            5: \"C \\nSmaller roads connect \\nunclassified roads with \\nA and B roads\", \n",
    "                            6: \"Unclassified\"}, \n",
    "          \"Road_Type\":{1: \"Roundabout\", \n",
    "                       2: \"One way street\", \n",
    "                       3: \"Dual carriageway\", \n",
    "                       6: \"Single carriageway\", \n",
    "                       7: \"Slip road\", \n",
    "                       9: \"Unknown\", \n",
    "                       12: \"One way street/Slip road\"}, \n",
    "          \"Junction_Detail\":{0: \"Not at junction or within 20m\", \n",
    "                             1: \"Roundabout\", \n",
    "                             2: \"Mini-roundabout\", \n",
    "                             3: \"T or staggered junction\", \n",
    "                             5: \"Slip road\", \n",
    "                             6: \"Crossroads\", \n",
    "                             7: \"More than 4 arms \\n(not roundabout)\", \n",
    "                             8: \"Private drive or entrance\", \n",
    "                             9: \"Other junction\"}, \n",
    "          \"Junction_Control\":{0: \"Not at junction or within 20m\", \n",
    "                              1: \"Authorised person\", \n",
    "                              2: \"Auto traffic signal\", \n",
    "                              3: \"Stop sign\", \n",
    "                              4: \"Give way or uncontrolled\"}, \n",
    "          \"Pedestrian_Crossing-Physical_Facilities\":{0: \"No crossing facilities\", \n",
    "                                                     1: \"Zebra\", \n",
    "                                                     4: \"Pelican, puffin, toucan or similar\", \n",
    "                                                     5: \"Pedestrian phase at traffic signal\", \n",
    "                                                     7: \"Footbridge or subway\", \n",
    "                                                     8: \"Central refuge\"}, \n",
    "          \"Light_Conditions\":{1: \"Daylight\", \n",
    "                              4: \"Darkness - lights lit\", \n",
    "                              5: \"Darkness - lights unlit\", \n",
    "                              6: \"Darkness - no lighting\", \n",
    "                              7: \"Darkness - lighting unknown\"}, \n",
    "          \"Weather_Conditions\":{1: \"Fine \\nno high winds\", \n",
    "                                2: \"Raining \\nno high winds\", \n",
    "                                3: \"Snowing \\nno high winds\", \n",
    "                                4: \"Fine \\nhigh winds\", \n",
    "                                5: \"Raining \\nhigh winds\", \n",
    "                                6: \"Snowing \\nhigh winds\", \n",
    "                                7: \"Fog or mist\", \n",
    "                                8: \"Other\", \n",
    "                                9: \"Unknown\"}, \n",
    "          \"Road_Surface_Conditions\":{1: \"Dry\", \n",
    "                                     2: \"Wet or damp\", \n",
    "                                     3: \"Snow\", \n",
    "                                     4: \"Frost or ice\", \n",
    "                                     5: \"Flood over 3cm. deep\", \n",
    "                                     6: \"Oil or diesel\", \n",
    "                                     7: \"Mud\"}, \n",
    "          \"Urban_or_Rural_Area\":{1: \"Urban\", \n",
    "                                 2: \"Rural\", \n",
    "                                 3: \"Unallocated\"}, \n",
    "          \"Vehicle_Type\":{1: \"Pedal cycle\", \n",
    "                          2: \"Motorcycle 50cc and under\", \n",
    "                          3: \"Motorcycle 125cc and under\", \n",
    "                          4: \"Motorcycle over 125cc and up to 500cc\", \n",
    "                          5: \"Motorcycle over 500cc\", \n",
    "                          8: \"Taxi/Private hire car\", \n",
    "                          9: \"Car\", \n",
    "                          10: \"Minibus (8 - 16 passenger seats)\", \n",
    "                          11: \"Bus or coach (17 or more pass seats)\", \n",
    "                          16: \"Ridden horse\", \n",
    "                          17: \"Agricultural vehicle\", \n",
    "                          18: \"Tram\", \n",
    "                          19: \"Van / Goods 3.5 tonnes mgw or under\", \n",
    "                          20: \"Goods over 3.5t. and under 7.5t\", \n",
    "                          21: \"Goods 7.5 tonnes mgw and over\", \n",
    "                          22: \"Mobility scooter\", \n",
    "                          23: \"Electric motorcycle\", \n",
    "                          90: \"Other vehicle\", \n",
    "                          97: \"Motorcycle - unknown cc\", \n",
    "                          98: \"Goods vehicle - unknown weight\"}, \n",
    "          \"Vehicle_Manoeuvre\":{1: \"Reversing\", \n",
    "                               2: \"Parked\", \n",
    "                               3: \"Waiting to go - held up\", \n",
    "                               4: \"Slowing or stopping\", \n",
    "                               5: \"Moving off\", \n",
    "                               6: \"U-turn\", \n",
    "                               7: \"Turning left\", \n",
    "                               8: \"Waiting to turn left\", \n",
    "                               9: \"Turning right\", \n",
    "                               10: \"Waiting to turn right\", \n",
    "                               11: \"Changing lane to left\", \n",
    "                               12: \"Changing lane to right\", \n",
    "                               13: \"Overtaking moving vehicle - offside\", \n",
    "                               14: \"Overtaking static vehicle - offside\", \n",
    "                               15: \"Overtaking - nearside\", \n",
    "                               16: \"Going ahead left-hand bend\", \n",
    "                               17: \"Going ahead right-hand bend\", \n",
    "                               18: \"Going ahead other\"}, \n",
    "          \"Junction_Location\":{0: \"Not at or within 20m of junction\", \n",
    "                               1: \"Approaching junction or \\nwaiting/parked at junction approach\", \n",
    "                               2: \"Cleared junction or \\nwaiting/parked at junction exit\", \n",
    "                               3: \"Leaving roundabout\", \n",
    "                               4: \"Entering roundabout\", \n",
    "                               5: \"Leaving main road\", \n",
    "                               6: \"Entering main road\", \n",
    "                               7: \"Entering from slip road\", \n",
    "                               8: \"Mid Junction \\nroundabout or main road\"}, \n",
    "          \"Casualty_Class\":{1: \"Driver or rider\", \n",
    "                            2: \"Passenger\", \n",
    "                            3: \"Pedestrian\"}, \n",
    "          \"Casualty_Severity\":{1: \"Fatal\", \n",
    "                               2: \"Serious\", \n",
    "                               3: \"Slight\"}, \n",
    "          \"Pedestrian_Location\":{0: \"Not a Pedestrian\", \n",
    "                                 1: \"Crossing facility\", \n",
    "                                 2: \"Crossing zig-zag approach lines\", \n",
    "                                 3: \"Crossing zig-zag exit lines\", \n",
    "                                 4: \"Crossing within 50m. of pedestrian crossing\", \n",
    "                                 5: \"In carriageway, crossing elsewhere\", \n",
    "                                 6: \"On footway or verge\", \n",
    "                                 7: \"On refuge, central island or central reservation\", \n",
    "                                 8: \"In centre of carriageway \\nnot on refuge, island or central reservation\", \n",
    "                                 9: \"In carriageway, not crossing\", \n",
    "                                 10: \"Unknown or other\"}, \n",
    "          \"Pedestrian_Movement\":{0: \"Not a Pedestrian\", \n",
    "                                 1: \"Crossing from nearside\", \n",
    "                                 2: \"Crossing from nearside \\nmasked by vehicle\", \n",
    "                                 3: \"Crossing from offside\", \n",
    "                                 4: \"Crossing from offside \\nmasked by vehicle\", \n",
    "                                 5: \"In carriageway standing or playing\", \n",
    "                                 6: \"In carriageway standing or playing \\nmasked by vehicle\", \n",
    "                                 7: \"Walking along in carriageway, \\nfacing traffic\", \n",
    "                                 8: \"Walking along in carriageway, \\nback to traffic\", \n",
    "                                 9: \"Unknown or other\"}, \n",
    "          \"Casualty_Type\":{0: \"Pedestrian\", \n",
    "                           1: \"Cyclist\", \n",
    "                           2: \"Motorcycle 050cc and under \\nrider or passenger\", \n",
    "                           3: \"Motorcycle 050cc to 125cc \\nrider or passenger\", \n",
    "                           4: \"Motorcycle 125cc to 500cc \\nrider or  passenger\", \n",
    "                           5: \"Motorcycle 500cc and over \\nrider or passenger\", \n",
    "                           8: \"Taxi/Private hire car occupant\", \n",
    "                           9: \"Car occupant\", \n",
    "                           10: \"Bus (8 - 16 passenger seats) occupant\", \n",
    "                           11: \"Bus or coach occupant\", \n",
    "                           16: \"Horse rider\", \n",
    "                           17: \"Agricultural vehicle occupant\", \n",
    "                           18: \"Tram occupant\", \n",
    "                           19: \"Goods vehicle \\n(3.5 tonnes mgw and under) occupant\", \n",
    "                           20: \"Goods vehicle \\n(3.5 tonnes to 7.5 tonnes mgw) occupant\", \n",
    "                           21: \"Goods vehicle \\n(7.5 tonnes mgw and over) occupant\", \n",
    "                           22: \"Scooter rider\", \n",
    "                           23: \"Electric motorcycle rider or passenger\", \n",
    "                           90: \"Other vehicle occupant\", \n",
    "                           97: \"Motorcycle unknown cc \\nrider or passenger\", \n",
    "                           98: \"Goods vehicle \\n(unknown weight) occupant\"}}"
   ]
  },
  {
   "cell_type": "code",
   "execution_count": 21,
   "id": "df7327e2",
   "metadata": {},
   "outputs": [
    {
     "name": "stdout",
     "output_type": "stream",
     "text": [
      "Wall time: 125 ms\n"
     ]
    }
   ],
   "source": [
    "%%time\n",
    "\n",
    "# Convert codes to descriptions\n",
    "for col in df_accidents.columns:\n",
    "    try:\n",
    "        df_accidents[col] = df_accidents[col].map(lookup[col])\n",
    "    except:\n",
    "        pass\n",
    "\n",
    "for col in df_vehicles.columns:\n",
    "    try:\n",
    "        df_vehicles[col] = df_vehicles[col].map(lookup[col])\n",
    "    except:\n",
    "        pass\n",
    "    \n",
    "for col in df_casualties.columns:\n",
    "    try:\n",
    "        df_casualties[col] = df_casualties[col].map(lookup[col])\n",
    "    except:\n",
    "        pass"
   ]
  },
  {
   "cell_type": "markdown",
   "id": "815543ca",
   "metadata": {},
   "source": [
    "### 3.3 SQL"
   ]
  },
  {
   "cell_type": "code",
   "execution_count": 22,
   "id": "2e5ed9fd",
   "metadata": {},
   "outputs": [],
   "source": [
    "## Create SQL database for query\n",
    "\n",
    "# Create/Connect database\n",
    "conn = sqlite3.connect(\"uk_road_2019.sqlite\")\n",
    "# Create a cursor\n",
    "c = conn.cursor()"
   ]
  },
  {
   "cell_type": "code",
   "execution_count": 23,
   "id": "0d0aeff8",
   "metadata": {},
   "outputs": [],
   "source": [
    "# Drop previous work\n",
    "c.execute(\"DROP TABLE IF EXISTS accidents;\")\n",
    "c.execute(\"DROP TABLE IF EXISTS vehicles;\")\n",
    "c.execute(\"DROP TABLE IF EXISTS casualties;\")\n",
    "conn.commit()"
   ]
  },
  {
   "cell_type": "code",
   "execution_count": 24,
   "id": "b42815c0",
   "metadata": {},
   "outputs": [],
   "source": [
    "# Copy dataframe to SQL table\n",
    "df_accidents.to_sql(\"acc\", con=conn, if_exists=\"replace\", index=False)\n",
    "df_vehicles.to_sql(\"veh\", con=conn, if_exists=\"replace\", index=False)\n",
    "df_casualties.to_sql(\"cas\", con=conn, if_exists=\"replace\", index=False)"
   ]
  },
  {
   "cell_type": "code",
   "execution_count": 25,
   "id": "bd99af01",
   "metadata": {},
   "outputs": [
    {
     "data": {
      "text/plain": [
       "<sqlite3.Cursor at 0x1d0bbd03b20>"
      ]
     },
     "execution_count": 25,
     "metadata": {},
     "output_type": "execute_result"
    }
   ],
   "source": [
    "# df.to_sql() function doesn't create primary keys, so we need to work around it by creating new tables\n",
    "c.executescript(\"\"\"\n",
    "\n",
    "CREATE TABLE accidents (id varchar(255) NOT NULL PRIMARY KEY, \n",
    "                        accident_severity varchar(255), \n",
    "                        no_of_casualties varchar(255), \n",
    "                        road_class varchar(255), \n",
    "                        road_type varchar(255), \n",
    "                        speed_limit varchar(255), \n",
    "                        junction_detail varchar(255), \n",
    "                        junction_control varchar(255), \n",
    "                        pedestrian_crossing_facilities varchar(255), \n",
    "                        light_condition varchar(255), \n",
    "                        weather_condition varchar(255), \n",
    "                        road_surface_condition varchar(255), \n",
    "                        urban_or_rural varchar(255));\n",
    "INSERT INTO accidents SELECT * FROM acc;\n",
    "DROP TABLE acc;\n",
    "\n",
    "CREATE TABLE vehicles (id varchar(255) NOT NULL, \n",
    "                       vehicle_type varchar(255), \n",
    "                       vehicle_manoeuvre varchar(255), \n",
    "                       junction_location varchar(255), \n",
    "                       FOREIGN KEY (id) REFERENCES accidents (id));\n",
    "INSERT INTO vehicles SELECT * FROM veh;\n",
    "DROP TABLE veh;\n",
    "\n",
    "CREATE TABLE casualties (id varchar(255) NOT NULL, \n",
    "                         casualty_class varchar(255), \n",
    "                         casualty_severity varchar(255), \n",
    "                         pedestrian_location varchar(255), \n",
    "                         pedestrian_movement varchar(255), \n",
    "                         casualty_type varchar(255), \n",
    "                         FOREIGN KEY (id) REFERENCES accidents (id));\n",
    "INSERT INTO casualties SELECT * FROM cas;\n",
    "DROP TABLE cas;\n",
    "\n",
    "\"\"\")"
   ]
  },
  {
   "cell_type": "markdown",
   "id": "c422c808",
   "metadata": {},
   "source": [
    "## 4. EDA\n",
    "See Capstone_EDA.ipynb\n",
    "## 5. Prediction of Casualty Severity / Casualty Type\n",
    "See Capstone_Modelling.ipynb\n",
    "## 6. Identify Casualty Severity Groups by Roads\n",
    "See Capstone_Modelling.ipynb\n",
    "## 7. Conclusion\n",
    "See Report.docx"
   ]
  }
 ],
 "metadata": {
  "kernelspec": {
   "display_name": "Python 3",
   "language": "python",
   "name": "python3"
  },
  "language_info": {
   "codemirror_mode": {
    "name": "ipython",
    "version": 3
   },
   "file_extension": ".py",
   "mimetype": "text/x-python",
   "name": "python",
   "nbconvert_exporter": "python",
   "pygments_lexer": "ipython3",
   "version": "3.8.8"
  }
 },
 "nbformat": 4,
 "nbformat_minor": 5
}
